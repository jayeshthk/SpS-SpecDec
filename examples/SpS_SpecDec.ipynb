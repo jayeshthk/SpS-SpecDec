{
  "nbformat": 4,
  "nbformat_minor": 0,
  "metadata": {
    "colab": {
      "provenance": [],
      "gpuType": "T4"
    },
    "kernelspec": {
      "name": "python3",
      "display_name": "Python 3"
    },
    "language_info": {
      "name": "python"
    },
    "accelerator": "GPU"
  },
  "cells": [
    {
      "cell_type": "markdown",
      "source": [
        "## Sps-SpecDec - Cloning the Repository"
      ],
      "metadata": {
        "id": "et4-uxuqcHQl"
      }
    },
    {
      "cell_type": "code",
      "execution_count": 1,
      "metadata": {
        "colab": {
          "base_uri": "https://localhost:8080/",
          "height": 0
        },
        "id": "LGZBgiNvfji0",
        "outputId": "2bc89d2a-3820-403e-c8c2-fbd01482fb4c"
      },
      "outputs": [
        {
          "output_type": "stream",
          "name": "stdout",
          "text": [
            "Cloning into 'SpS-SpecDec'...\n",
            "remote: Enumerating objects: 33, done.\u001b[K\n",
            "remote: Counting objects: 100% (33/33), done.\u001b[K\n",
            "remote: Compressing objects: 100% (22/22), done.\u001b[K\n",
            "remote: Total 33 (delta 11), reused 30 (delta 8), pack-reused 0 (from 0)\u001b[K\n",
            "Receiving objects: 100% (33/33), 7.93 KiB | 7.93 MiB/s, done.\n",
            "Resolving deltas: 100% (11/11), done.\n"
          ]
        }
      ],
      "source": [
        "!git clone https://github.com/jayeshthk/SpS-SpecDec.git"
      ]
    },
    {
      "cell_type": "code",
      "source": [
        "!cd SpS-SpecDec"
      ],
      "metadata": {
        "id": "kfQrzCSfpkp5"
      },
      "execution_count": 8,
      "outputs": []
    },
    {
      "cell_type": "markdown",
      "source": [
        "### import the modules"
      ],
      "metadata": {
        "id": "H0ZuMmVncWnT"
      }
    },
    {
      "cell_type": "code",
      "source": [
        "from specdec.main import SpeculativeDecoder\n"
      ],
      "metadata": {
        "id": "z72rv5n_gC9u"
      },
      "execution_count": 7,
      "outputs": []
    },
    {
      "cell_type": "code",
      "source": [
        "decoder = SpeculativeDecoder(\n",
        "    approx_model_name=\"bigscience/bloom-560m\",\n",
        "    target_model_name=\"bigscience/bloomz-1b1\",\n",
        "    gamma=4, max_tokens=20, device=\"cuda\"\n",
        ")\n",
        "input_text = \"Tell me a fun fact about space that is.\"\n",
        "output = decoder.speculative_sample(input_text)\n",
        "print(\"Generated Text:\", output)"
      ],
      "metadata": {
        "colab": {
          "base_uri": "https://localhost:8080/",
          "height": 0
        },
        "id": "fkwlb9Vpg8BL",
        "outputId": "af3d824f-906a-44e8-c9c0-c5194fa95055"
      },
      "execution_count": 9,
      "outputs": [
        {
          "output_type": "stream",
          "name": "stdout",
          "text": [
            "Generated Text: Tell me a fun fact about space that is. The most cruise bearing capsules are crafted in convention. There are two styles of unmanned\n"
          ]
        }
      ]
    },
    {
      "cell_type": "markdown",
      "source": [
        "### benchmarking"
      ],
      "metadata": {
        "id": "JLRMIGQwcaad"
      }
    },
    {
      "cell_type": "code",
      "source": [
        "from specdec.utils import log_message, benchmark\n"
      ],
      "metadata": {
        "id": "JJCnZzSApXSh"
      },
      "execution_count": 10,
      "outputs": []
    },
    {
      "cell_type": "code",
      "source": [
        "output = benchmark(decoder.speculative_sample, input_text)"
      ],
      "metadata": {
        "colab": {
          "base_uri": "https://localhost:8080/",
          "height": 0
        },
        "id": "R16Fnc2FqBUX",
        "outputId": "a428bfd7-6a87-4823-a6d1-c936eb3ae7fd"
      },
      "execution_count": 12,
      "outputs": [
        {
          "output_type": "stream",
          "name": "stdout",
          "text": [
            "Execution time: 2.6602 seconds\n"
          ]
        }
      ]
    },
    {
      "cell_type": "code",
      "source": [
        "output = benchmark(decoder.speculative_sample, input_text)"
      ],
      "metadata": {
        "colab": {
          "base_uri": "https://localhost:8080/",
          "height": 0
        },
        "id": "RaWRCkf1qLdh",
        "outputId": "ed417f8b-9d9f-4db8-e29f-4a032189972d"
      },
      "execution_count": 13,
      "outputs": [
        {
          "output_type": "stream",
          "name": "stdout",
          "text": [
            "Execution time: 2.7053 seconds\n"
          ]
        }
      ]
    },
    {
      "cell_type": "code",
      "source": [
        "output = benchmark(decoder.speculative_sample, input_text)"
      ],
      "metadata": {
        "colab": {
          "base_uri": "https://localhost:8080/",
          "height": 0
        },
        "id": "arR7uB9wqVdB",
        "outputId": "612f74d3-30c9-4e7d-edd8-408cfdb2e535"
      },
      "execution_count": 14,
      "outputs": [
        {
          "output_type": "stream",
          "name": "stdout",
          "text": [
            "Execution time: 2.7004 seconds\n"
          ]
        }
      ]
    },
    {
      "cell_type": "code",
      "source": [
        "input_text = \"Tell me a fun fact about space.\"\n",
        "output = decoder.speculative_sample(input_text)\n",
        "print(\"Generated Text:\", output)"
      ],
      "metadata": {
        "colab": {
          "base_uri": "https://localhost:8080/"
        },
        "id": "xGk2TX7oqsd8",
        "outputId": "833f7644-de87-42be-ce7c-933f700cb736"
      },
      "execution_count": 17,
      "outputs": [
        {
          "output_type": "stream",
          "name": "stdout",
          "text": [
            "Generated Text: Tell me a fun fact about space. The only products in your supply list contain a cartel. That batch of bombs was fired in space aboard\n"
          ]
        }
      ]
    },
    {
      "cell_type": "markdown",
      "source": [
        "### time test - difference"
      ],
      "metadata": {
        "id": "q6HhScNnciyJ"
      }
    },
    {
      "cell_type": "code",
      "source": [
        "import time\n",
        "input_text = \"How do neural networks learn?\"\n",
        "\n",
        "start_time = time.time()\n",
        "output = decoder.speculative_sample(input_text)\n",
        "end_time = time.time()\n",
        "\n",
        "print(\"Generated Text:\", output)\n",
        "print(f\"Execution Time: {end_time - start_time:.4f} seconds\")"
      ],
      "metadata": {
        "colab": {
          "base_uri": "https://localhost:8080/",
          "height": 0
        },
        "id": "tWzpxhWrqXU3",
        "outputId": "76ffc12a-c376-47e0-e26e-730b75611d10"
      },
      "execution_count": 16,
      "outputs": [
        {
          "output_type": "stream",
          "name": "stdout",
          "text": [
            "Generated Text: How do neural networks learn? by themselvesI have continued to model the the vowel representation being seen in humans, I\n",
            ")\n",
            "model\n",
            "Execution Time: 2.9597 seconds\n"
          ]
        }
      ]
    },
    {
      "cell_type": "code",
      "source": [],
      "metadata": {
        "id": "JPsIOCEMvgbc"
      },
      "execution_count": null,
      "outputs": []
    },
    {
      "cell_type": "code",
      "source": [],
      "metadata": {
        "id": "7LGPHG-zxLjK"
      },
      "execution_count": null,
      "outputs": []
    }
  ]
}